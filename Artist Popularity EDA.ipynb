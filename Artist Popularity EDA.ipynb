{
 "cells": [
  {
   "cell_type": "markdown",
   "metadata": {},
   "source": [
    "# Predicting Artist Success\n",
    "### An exploratory data analysis of 95 monthly playlists"
   ]
  },
  {
   "cell_type": "code",
   "execution_count": 4,
   "metadata": {
    "collapsed": true
   },
   "outputs": [
    {
     "name": "stdout",
     "output_type": "stream",
     "text": [
      "Collecting spotipy\n",
      "  Downloading https://files.pythonhosted.org/packages/59/46/3c957255c96910a8a0e2d9c25db1de51a8676ebba01d7966bedc6e748822/spotipy-2.4.4.tar.gz\n",
      "Requirement already satisfied: requests>=1.0 in /Users/griffinboyd/anaconda3/lib/python3.7/site-packages (from spotipy) (2.21.0)\n",
      "Requirement already satisfied: urllib3<1.25,>=1.21.1 in /Users/griffinboyd/anaconda3/lib/python3.7/site-packages (from requests>=1.0->spotipy) (1.24.1)\n",
      "Requirement already satisfied: chardet<3.1.0,>=3.0.2 in /Users/griffinboyd/anaconda3/lib/python3.7/site-packages (from requests>=1.0->spotipy) (3.0.4)\n",
      "Requirement already satisfied: idna<2.9,>=2.5 in /Users/griffinboyd/anaconda3/lib/python3.7/site-packages (from requests>=1.0->spotipy) (2.8)\n",
      "Requirement already satisfied: certifi>=2017.4.17 in /Users/griffinboyd/anaconda3/lib/python3.7/site-packages (from requests>=1.0->spotipy) (2019.9.11)\n",
      "Building wheels for collected packages: spotipy\n",
      "  Building wheel for spotipy (setup.py) ... \u001b[?25ldone\n",
      "\u001b[?25h  Stored in directory: /Users/griffinboyd/Library/Caches/pip/wheels/76/28/19/a86ca9bb0e32dbd4a4f580870250f5aeef852870578e0427e6\n",
      "Successfully built spotipy\n",
      "Installing collected packages: spotipy\n",
      "Successfully installed spotipy-2.4.4\n"
     ]
    }
   ],
   "source": [
    "# I am using the Anaconda distribution - these are two additional libraries I used\n",
    "!pip install spotipy\n",
    "!pip install pytrends"
   ]
  },
  {
   "cell_type": "code",
   "execution_count": 1,
   "metadata": {},
   "outputs": [],
   "source": [
    "import spotipy\n",
    "import spotipy.util as util\n",
    "from spotipy.oauth2 import SpotifyClientCredentials\n",
    "import spotipy.oauth2 as oauth2\n",
    "\n",
    "market = [ \"AD\", \"AR\", \"AT\", \"AU\", \"BE\", \"BG\", \"BO\", \"BR\", \"CA\", \"CH\", \"CL\", \"CO\", \"CR\", \"CY\", \n",
    "      \"CZ\", \"DE\", \"DK\", \"DO\", \"EC\", \"EE\", \"ES\", \"FI\", \"FR\", \"GB\", \"GR\", \"GT\", \"HK\", \"HN\", \"HU\", \n",
    "      \"ID\", \"IE\", \"IS\", \"IT\", \"JP\", \"LI\", \"LT\", \"LU\", \"LV\", \"MC\", \"MT\", \"MX\", \"MY\", \"NI\", \"NL\", \n",
    "      \"NO\", \"NZ\", \"PA\", \"PE\", \"PH\", \"PL\", \"PT\", \"PY\", \"SE\", \"SG\", \"SK\", \"SV\", \"TH\", \"TR\", \"TW\", \n",
    "      \"US\", \"UY\", \"VN\" ]\n",
    "\n",
    "keyFile = open('keys.txt', 'r')\n",
    "CLIENT_ID = keyFile.readline().rstrip()\n",
    "CLIENT_SECRET = keyFile.readline().rstrip()\n",
    "keyFile.close()\n",
    "\n",
    "credentials = oauth2.SpotifyClientCredentials(\n",
    "        client_id=CLIENT_ID,\n",
    "        client_secret=CLIENT_SECRET)\n",
    "\n",
    "token = credentials.get_access_token()\n",
    "spotify = spotipy.Spotify(auth=token)"
   ]
  },
  {
   "cell_type": "code",
   "execution_count": 2,
   "metadata": {},
   "outputs": [],
   "source": [
    "import numpy as np\n",
    "import pandas as pd\n",
    "import matplotlib.pyplot as plt\n",
    "from pytrends.request import TrendReq\n",
    "pytrends = TrendReq(hl='en-US', tz=360)\n",
    "\n",
    "plt.style.use('fivethirtyeight')\n",
    "%matplotlib inline"
   ]
  },
  {
   "cell_type": "markdown",
   "metadata": {},
   "source": [
    "### Retrieving List of Spotify Playlists\n",
    "* I used the `user_playlists` Spotify API endpoint to get a list of my playlists, then cleaned this up to just include my monthly \"Favorites\" playlists I've made since December 2011"
   ]
  },
  {
   "cell_type": "code",
   "execution_count": 3,
   "metadata": {},
   "outputs": [],
   "source": [
    "monthly_playlists = ['1zVU8QsUGupT48ru47XkSX', '2jqkm6oN8NuoyheeCGn1dW', '1IBaZXrjWRH0uIAICuXbug', '3k2WrmQcLlzqDgYs4Pz6Rq', '5Ogn4xEGXmaCiASE43iglB', '5FqNVQADrTaLUnH6WZD3d5', '4eCAbbJC316zcuE2SlvAmE', '6PsUVlhWBKSsOYiMdUpBA0', '3u9zWhsKZ39ZsJaACBv1zJ', '69dvMoS9V0Ft4sVDSCgEah', '5enHLbAS7YVQmMnuzQaXZk', '5KM1eGieX5kDfOnKeZdGWr', '0fRNCOVaEQpxbRHUx8XjOZ', '2jeDeYTktNp9hrdYQ1jog6', '2juUvvmGcM1AmBE5g7yzRE', '6Yt8zd2pEuPpFqer5Oz8OY', '7gctmDaRoGCYCqz3JhqdH2', '63EuI8vKEcf306VZ54ALCp', '4SferHMntxKEFGYRWgoyty', '4Smiymcx4vLxFSwPwMbZpj', '3NJvewRQT1pW2Rkj1NPNoc', '2ubZ6ldrqlqKbjtMJh5Asr', '1oeuCaQgprimCOayDowdDg', '6NE18ZyRVC3D28rMfWWcKO', '4UskJGQKKDtKXxsNFjYYZq', '6BobCQLX7G2nUOD0hiAFaD', '1WBI3D8fKy8W5OXOGbxKJB', '7AqmMbOAkQmqkdlbkGQuBB', '3U8gn6Hr4hGOhiFTT3Btim', '6K6v2nr5iiGmSQPfCG5run', '5jDjb9StuLLfy8aewcKrOT', '4FDPiojZrIzwxe8yFrYWfB', '0cnQC5Uj7mkfC09wl2V7YW', '1BnhWGhMcIT7OcgOi5A2AX', '2pMvq0DbOeuMJHQLTHMrEk', '3wn6TQXzBmPz83jiXAQ2O5', '6iXiVRb1L6YcHCpno6Oscq', '19bsqlA1BgfhGQLpyy8YfQ', '48gvLCM1cwciuzvnRTvZEH', '1VHFb1pvllvxAH5jsMaV6e', '0OpFWMBc7zQHFjwt1zfQ6T', '71KpNTa8UhM7rVExjaP2Of', '0OQfj3Cwc1fHtQ6phs2G9o', '6lCvFUfm8BV7Rm6IPJs4rP', '6Qb6TxT9lP3c4DeHTELhgh', '6EFJydvGTvSPVXVKhs6oYh', '0wM7jG2jCgUM2X8L9kMYBK', '65tcjNyhQdqxDl8BjAZILe', '1AFyTfrwytNNcTPUfFJeMD', '7a9iowtkNhsT69tKIuEgWQ', '37QJgBF1MdnBh86fhSyJkH', '241tw97H0XJHnMv3zQk1JK', '4Qm5zSOJ1bSJhE7plr2hAn', '3D2cdZRu7ySb2Nw9THzDQM', '412AGB1ZyuSE6o00TfpVgj', '2CXoNN78UkZwvnNvmy5ffw', '3t4DT9ZauORWwgbXPzcjTQ', '17DLMsK2h1lxzbhbFE7VjB', '3q9KKTxPQDqnVscd0pwmuW', '6DQr4Cbf0qCbLR5mchwTZ1', '4vba7hnYBZNmdUaiMxsggL', '5RFdSKyOAhgAOSJpnu8dKs', '3qDCFh6oMaOMivLeNBCkIm', '51jI2VTwzOUXcNEXtfQ2Lx', '6gJEympvFa4Mde1RbJ55cv', '4147fRtlDcqjfxv0sMrp8l', '2pkRbETjom7aYlRtfAEqsz', '0Twg2Wt5Lrh6S8Sb6tBOdA', '0FZeEIi6EI4GTUUmyVDXFC', '4UgpevpEG5YEd75SKcQzbf', '5CWdpdlU2NP6q4WWiUIxfw', '2YHs8t8O7zsqqG76Q6ztQt', '5jp4kJnzsDQ8qqQkZdeFX4', '3Y5nZSdwRfDVO0WLwvBQ1x', '0c8BCbSajTMILWdl3Ldk3F', '59KkIvF5fAX7gQogtY4pDR', '6fjfy19BAfJlOzLcRK314E', '0Yu7XSPtsOWaHvNQfHvN0n', '3LzkcX1I1t6d5CSIKWhpr8', '4bu0emkoXLfgO4Y7KGsgNM', '7jXW8MtGykTpOFClSTcKAg', '6tjVSLwhozBRDLONEnNa9w', '0UsDMdm9zm18AXywnxLGGJ', '5DtlNesPUmHmOoSW3LrOQh', '0JQy7fPJmZr2rmswgLzQ24', '3AfpYzcHYx5QUHihU3EnzD', '6ZA3dq8Gn22xahvrdfQOEC', '5S9cRepmRM8tN8cnk48XME', '1K5GJwlYDI0amsygniFUnI', '0W2Vk7k06mKu40kzyCUZN3', '6dlGGm5hU49NrggeNtKcCd', '5MFbFxA8sk1N1epFer7Foo', '4zjoEyLWfIZzp5PhhNOLtw', '3CSDGU4RkExa7UEK9otpm3', '1yCfMCQLOlxsMKI0hYunN7']"
   ]
  },
  {
   "cell_type": "markdown",
   "metadata": {},
   "source": [
    "### Building a DataFrame\n",
    "* I retrieved all tracks from each playlist and combined the applicable information in a Pandas DataFrame\n",
    "    * In order to limit API calls, I just logged track popularity, but I also saved Spotify IDs for the primary artists and each of the tracks in order to possibly add to the dataset in the future"
   ]
  },
  {
   "cell_type": "code",
   "execution_count": 4,
   "metadata": {},
   "outputs": [],
   "source": [
    "selected_track_data = []\n",
    "for mp in monthly_playlists:\n",
    "    playlist_results = spotify.user_playlist_tracks(\"129077454\", playlist_id=mp, fields='items', limit=100, offset=0, market=None)\n",
    "    for i, item in enumerate(playlist_results['items']):\n",
    "        track = item['track']\n",
    "        selected_track_data.append((track['artists'][0]['name'], track['name'], track['popularity'], item['added_at'],track['album']['release_date'],track['artists'][0]['id'], track['id']))"
   ]
  },
  {
   "cell_type": "code",
   "execution_count": 5,
   "metadata": {},
   "outputs": [],
   "source": [
    "mps_df = pd.DataFrame(selected_track_data, columns=('Primary Artist', 'Track Name', 'Popularity','Added At','Release Date','Artist ID','Track ID'))"
   ]
  },
  {
   "cell_type": "code",
   "execution_count": 6,
   "metadata": {
    "scrolled": false
   },
   "outputs": [
    {
     "data": {
      "text/html": [
       "<div>\n",
       "<style scoped>\n",
       "    .dataframe tbody tr th:only-of-type {\n",
       "        vertical-align: middle;\n",
       "    }\n",
       "\n",
       "    .dataframe tbody tr th {\n",
       "        vertical-align: top;\n",
       "    }\n",
       "\n",
       "    .dataframe thead th {\n",
       "        text-align: right;\n",
       "    }\n",
       "</style>\n",
       "<table border=\"1\" class=\"dataframe\">\n",
       "  <thead>\n",
       "    <tr style=\"text-align: right;\">\n",
       "      <th></th>\n",
       "      <th>Primary Artist</th>\n",
       "      <th>Track Name</th>\n",
       "      <th>Popularity</th>\n",
       "      <th>Added At</th>\n",
       "      <th>Release Date</th>\n",
       "      <th>Artist ID</th>\n",
       "      <th>Track ID</th>\n",
       "    </tr>\n",
       "  </thead>\n",
       "  <tbody>\n",
       "    <tr>\n",
       "      <td>0</td>\n",
       "      <td>Robert Glasper</td>\n",
       "      <td>Endangered Black Woman [Feat. Andra Day &amp; Stac...</td>\n",
       "      <td>44</td>\n",
       "      <td>2019-10-03T19:16:47Z</td>\n",
       "      <td>2019-10-03</td>\n",
       "      <td>5cM1PvItlR21WUyBnsdMcn</td>\n",
       "      <td>6HMZPGvQxzFFhyMJLjNQnt</td>\n",
       "    </tr>\n",
       "    <tr>\n",
       "      <td>1</td>\n",
       "      <td>Danny Brown</td>\n",
       "      <td>3 Tearz</td>\n",
       "      <td>57</td>\n",
       "      <td>2019-10-02T12:28:42Z</td>\n",
       "      <td>2019-10-01</td>\n",
       "      <td>7aA592KWirLsnfb5ulGWvU</td>\n",
       "      <td>1BMdBu6UsVCyYZ8BvTdBtw</td>\n",
       "    </tr>\n",
       "    <tr>\n",
       "      <td>2</td>\n",
       "      <td>Archy Marshall</td>\n",
       "      <td>Arise Dear Brother</td>\n",
       "      <td>42</td>\n",
       "      <td>2019-10-03T17:33:27Z</td>\n",
       "      <td>2015-12-10</td>\n",
       "      <td>2pLvihTVAElhBCw7HcrIUC</td>\n",
       "      <td>26d3GcODYXIwjxspmIWHW0</td>\n",
       "    </tr>\n",
       "    <tr>\n",
       "      <td>3</td>\n",
       "      <td>The Midnight Hour</td>\n",
       "      <td>Harmony</td>\n",
       "      <td>37</td>\n",
       "      <td>2019-10-18T04:56:37Z</td>\n",
       "      <td>2019-10-18</td>\n",
       "      <td>1S5jf5XWhQTMjGZQxCH0AJ</td>\n",
       "      <td>4muWswJjEaNdXZS6bnNucA</td>\n",
       "    </tr>\n",
       "    <tr>\n",
       "      <td>4</td>\n",
       "      <td>Lee \"Scratch\" Perry</td>\n",
       "      <td>Magik</td>\n",
       "      <td>25</td>\n",
       "      <td>2019-10-03T17:41:57Z</td>\n",
       "      <td>2019-10-02</td>\n",
       "      <td>1TsG4AumsMt1Tcq2nHpov9</td>\n",
       "      <td>6LVCbj6ha72ytZbhzaiWId</td>\n",
       "    </tr>\n",
       "    <tr>\n",
       "      <td>...</td>\n",
       "      <td>...</td>\n",
       "      <td>...</td>\n",
       "      <td>...</td>\n",
       "      <td>...</td>\n",
       "      <td>...</td>\n",
       "      <td>...</td>\n",
       "      <td>...</td>\n",
       "    </tr>\n",
       "    <tr>\n",
       "      <td>3812</td>\n",
       "      <td>Jaco Pastorius</td>\n",
       "      <td>Soul Intro/The Chicken - Live Version</td>\n",
       "      <td>0</td>\n",
       "      <td>2011-12-13T01:13:05Z</td>\n",
       "      <td>1981</td>\n",
       "      <td>3U3C9o6UTYNdEsDckpRyvX</td>\n",
       "      <td>5mUwcFTA1LNLn39b8noWJv</td>\n",
       "    </tr>\n",
       "    <tr>\n",
       "      <td>3813</td>\n",
       "      <td>Los Panchos</td>\n",
       "      <td>Quizas, Quizas, Quizas</td>\n",
       "      <td>25</td>\n",
       "      <td>2011-12-13T01:33:41Z</td>\n",
       "      <td>2011-01-01</td>\n",
       "      <td>3Ker27Wbb9OcUHGs54JIAz</td>\n",
       "      <td>38WYwTMlgtjw65TYOmouhb</td>\n",
       "    </tr>\n",
       "    <tr>\n",
       "      <td>3814</td>\n",
       "      <td>Wax Tailor</td>\n",
       "      <td>Que Sera</td>\n",
       "      <td>0</td>\n",
       "      <td>2011-12-13T02:12:09Z</td>\n",
       "      <td>2005</td>\n",
       "      <td>3qwxSif06Qwzykdln8ZGfG</td>\n",
       "      <td>2LBdCn8RI2vP9StjyhwFpu</td>\n",
       "    </tr>\n",
       "    <tr>\n",
       "      <td>3815</td>\n",
       "      <td>Supertramp</td>\n",
       "      <td>The Logical Song - Remastered 2010</td>\n",
       "      <td>73</td>\n",
       "      <td>2012-01-05T00:11:14Z</td>\n",
       "      <td>1979-03-29</td>\n",
       "      <td>3JsMj0DEzyWc0VDlHuy9Bx</td>\n",
       "      <td>6mHOcVtsHLMuesJkswc0GZ</td>\n",
       "    </tr>\n",
       "    <tr>\n",
       "      <td>3816</td>\n",
       "      <td>Radiohead</td>\n",
       "      <td>The Daily Mail</td>\n",
       "      <td>0</td>\n",
       "      <td>2011-12-21T20:25:15Z</td>\n",
       "      <td>2011-12-19</td>\n",
       "      <td>4Z8W4fKeB5YxbusRsdQVPb</td>\n",
       "      <td>2eykDRFrn00PyWrqZqasEV</td>\n",
       "    </tr>\n",
       "  </tbody>\n",
       "</table>\n",
       "<p>3817 rows × 7 columns</p>\n",
       "</div>"
      ],
      "text/plain": [
       "           Primary Artist                                         Track Name  \\\n",
       "0          Robert Glasper  Endangered Black Woman [Feat. Andra Day & Stac...   \n",
       "1             Danny Brown                                            3 Tearz   \n",
       "2          Archy Marshall                                 Arise Dear Brother   \n",
       "3       The Midnight Hour                                            Harmony   \n",
       "4     Lee \"Scratch\" Perry                                              Magik   \n",
       "...                   ...                                                ...   \n",
       "3812       Jaco Pastorius              Soul Intro/The Chicken - Live Version   \n",
       "3813          Los Panchos                             Quizas, Quizas, Quizas   \n",
       "3814           Wax Tailor                                           Que Sera   \n",
       "3815           Supertramp                 The Logical Song - Remastered 2010   \n",
       "3816            Radiohead                                     The Daily Mail   \n",
       "\n",
       "      Popularity              Added At Release Date               Artist ID  \\\n",
       "0             44  2019-10-03T19:16:47Z   2019-10-03  5cM1PvItlR21WUyBnsdMcn   \n",
       "1             57  2019-10-02T12:28:42Z   2019-10-01  7aA592KWirLsnfb5ulGWvU   \n",
       "2             42  2019-10-03T17:33:27Z   2015-12-10  2pLvihTVAElhBCw7HcrIUC   \n",
       "3             37  2019-10-18T04:56:37Z   2019-10-18  1S5jf5XWhQTMjGZQxCH0AJ   \n",
       "4             25  2019-10-03T17:41:57Z   2019-10-02  1TsG4AumsMt1Tcq2nHpov9   \n",
       "...          ...                   ...          ...                     ...   \n",
       "3812           0  2011-12-13T01:13:05Z         1981  3U3C9o6UTYNdEsDckpRyvX   \n",
       "3813          25  2011-12-13T01:33:41Z   2011-01-01  3Ker27Wbb9OcUHGs54JIAz   \n",
       "3814           0  2011-12-13T02:12:09Z         2005  3qwxSif06Qwzykdln8ZGfG   \n",
       "3815          73  2012-01-05T00:11:14Z   1979-03-29  3JsMj0DEzyWc0VDlHuy9Bx   \n",
       "3816           0  2011-12-21T20:25:15Z   2011-12-19  4Z8W4fKeB5YxbusRsdQVPb   \n",
       "\n",
       "                    Track ID  \n",
       "0     6HMZPGvQxzFFhyMJLjNQnt  \n",
       "1     1BMdBu6UsVCyYZ8BvTdBtw  \n",
       "2     26d3GcODYXIwjxspmIWHW0  \n",
       "3     4muWswJjEaNdXZS6bnNucA  \n",
       "4     6LVCbj6ha72ytZbhzaiWId  \n",
       "...                      ...  \n",
       "3812  5mUwcFTA1LNLn39b8noWJv  \n",
       "3813  38WYwTMlgtjw65TYOmouhb  \n",
       "3814  2LBdCn8RI2vP9StjyhwFpu  \n",
       "3815  6mHOcVtsHLMuesJkswc0GZ  \n",
       "3816  2eykDRFrn00PyWrqZqasEV  \n",
       "\n",
       "[3817 rows x 7 columns]"
      ]
     },
     "execution_count": 6,
     "metadata": {},
     "output_type": "execute_result"
    }
   ],
   "source": [
    "mps_df"
   ]
  },
  {
   "cell_type": "markdown",
   "metadata": {},
   "source": [
    "## How Popular Were The Artists When I Discovered Them?\n",
    "* I have been fascinated by the Pytrends – an unofficial API for accessing historical Google Search result data\n",
    "* These monthly playlists are the place where I've put most of my favorite tracks from any and all genres\n",
    "* I am curious to explore what the popularity trends look like for a sample of the represented artists"
   ]
  },
  {
   "cell_type": "code",
   "execution_count": 7,
   "metadata": {},
   "outputs": [
    {
     "data": {
      "text/plain": [
       "Text(0, 0.5, 'Popularity')"
      ]
     },
     "execution_count": 7,
     "metadata": {},
     "output_type": "execute_result"
    },
    {
     "data": {
      "image/png": "[encoded data removed]",
      "text/plain": [
       "<Figure size 864x576 with 1 Axes>"
      ]
     },
     "metadata": {
      "needs_background": "light"
     },
     "output_type": "display_data"
    }
   ],
   "source": [
    "# Search for earliest date an artist was added to one of my playlists\n",
    "track_id = ((mps_df[mps_df['Primary Artist'].str.contains(\"Vulfpeck\")]).tail(1).index[0])\n",
    "artist_name = mps_df.iloc[track_id]['Primary Artist']\n",
    "discovery_date = mps_df.iloc[track_id]['Added At']\n",
    "\n",
    "# Call Pytrends API\n",
    "kw_list = [artist_name]\n",
    "pytrends.build_payload(kw_list, cat=0, timeframe='2011-12-01 2019-10-15', geo='', gprop='')\n",
    "trends_df = pytrends.interest_over_time()\n",
    "\n",
    "# Create a new DataFrame of the two Pytrends dates surrounding playlist date\n",
    "playlist_date_trends_df = pd.concat([(trends_df.truncate(after= discovery_date).tail(1)),(trends_df.truncate(before= discovery_date).head(1))])\n",
    "playlist_date_trends_df.reset_index(inplace=True)\n",
    "\n",
    "# Calculate popularity on the date added\n",
    "month_length = (playlist_date_trends_df.iloc[1]['date']) - (playlist_date_trends_df.iloc[0]['date'])\n",
    "day_of_month_added = int(mps_df.iloc[track_id]['Added At'][8:10])\n",
    "total_change_over_month = (playlist_date_trends_df.iloc[1][artist_name]) - (playlist_date_trends_df.iloc[0][artist_name])\n",
    "change_per_day = total_change_over_month / month_length.days\n",
    "change_until_playlist = change_per_day * day_of_month_added\n",
    "popularity_when_playlisted = (playlist_date_trends_df.iloc[0][artist_name]) + change_until_playlist\n",
    "\n",
    "# Plot Line Chart and Marker\n",
    "trends_df.plot(figsize=(12,8),zorder=1)\n",
    "plt.scatter(discovery_date, popularity_when_playlisted, color='red',label='First Instance In A Playlist', s=100,zorder=2)\n",
    "plt.legend()\n",
    "plt.title(F'Google Searches for {artist_name}')\n",
    "plt.xlabel('Date')\n",
    "plt.ylabel('Popularity')"
   ]
  },
  {
   "cell_type": "markdown",
   "metadata": {},
   "source": [
    "## Cleaning Data For Analysis\n",
    "* There are some throwback favorites in these playlists, but for the most part, I try to add music to these monthly playlists when I come across it for the first time"
   ]
  },
  {
   "cell_type": "code",
   "execution_count": 8,
   "metadata": {},
   "outputs": [
    {
     "data": {
      "text/plain": [
       "Text(0, 0.5, 'Number of Tracks')"
      ]
     },
     "execution_count": 8,
     "metadata": {},
     "output_type": "execute_result"
    },
    {
     "data": {
      "image/png": "[encoded data removed]",
      "text/plain": [
       "<Figure size 864x576 with 1 Axes>"
      ]
     },
     "metadata": {
      "needs_background": "light"
     },
     "output_type": "display_data"
    }
   ],
   "source": [
    "mps_df['Release Date'].astype('datetime64').hist(bins=30,figsize=(12,8))\n",
    "plt.title(\"Release Dates of Playlisted Tracks\")\n",
    "plt.xlabel(\"Release Year\")\n",
    "plt.ylabel(\"Number of Tracks\")"
   ]
  },
  {
   "cell_type": "markdown",
   "metadata": {},
   "source": [
    "### Average Time Between Discovery and Playlisting\n",
    "* With outliers from the years before I was using Spotify, the average time between a track release and its appearance in one of my monthly playlists is **1916 days** (about 5 years).\n",
    "* When I only include tracks released after I started making these playlists, the average drops down to **283 Days** (about 9 months)"
   ]
  },
  {
   "cell_type": "code",
   "execution_count": 9,
   "metadata": {},
   "outputs": [],
   "source": [
    "# Adding a column to the main DataFrame to see the time between Release Date and Date Added\n",
    "mps_df['Playlist Date - Release Date'] = mps_df['Added At'].astype('datetime64') - mps_df['Release Date'].astype('datetime64')\n",
    "\n",
    "# Fix data where Date Added precedes Release Date\n",
    "mps_df.loc[mps_df['Playlist Date - Release Date'] < '0', 'Playlist Date - Release Date'] = pd.to_timedelta('0')\n",
    "\n",
    "# Added mirrored column rounded to days as an integer (for easier sorting/graphing)\n",
    "mps_df['Days Until Discovery'] = mps_df['Playlist Date - Release Date'].dt.days"
   ]
  },
  {
   "cell_type": "code",
   "execution_count": 10,
   "metadata": {},
   "outputs": [
    {
     "data": {
      "text/plain": [
       "Timedelta('1916 days 00:06:36.007320')"
      ]
     },
     "execution_count": 10,
     "metadata": {},
     "output_type": "execute_result"
    }
   ],
   "source": [
    "mps_df['Playlist Date - Release Date'].mean()"
   ]
  },
  {
   "cell_type": "code",
   "execution_count": 11,
   "metadata": {},
   "outputs": [],
   "source": [
    "current_tracks_df = mps_df[mps_df['Release Date'] > '2011-12-13']"
   ]
  },
  {
   "cell_type": "code",
   "execution_count": 13,
   "metadata": {
    "collapsed": true
   },
   "outputs": [
    {
     "data": {
      "text/html": [
       "<div>\n",
       "<style scoped>\n",
       "    .dataframe tbody tr th:only-of-type {\n",
       "        vertical-align: middle;\n",
       "    }\n",
       "\n",
       "    .dataframe tbody tr th {\n",
       "        vertical-align: top;\n",
       "    }\n",
       "\n",
       "    .dataframe thead th {\n",
       "        text-align: right;\n",
       "    }\n",
       "</style>\n",
       "<table border=\"1\" class=\"dataframe\">\n",
       "  <thead>\n",
       "    <tr style=\"text-align: right;\">\n",
       "      <th></th>\n",
       "      <th>Primary Artist</th>\n",
       "      <th>Track Name</th>\n",
       "      <th>Popularity</th>\n",
       "      <th>Added At</th>\n",
       "      <th>Release Date</th>\n",
       "      <th>Artist ID</th>\n",
       "      <th>Track ID</th>\n",
       "      <th>Playlist Date - Release Date</th>\n",
       "      <th>Days Until Discovery</th>\n",
       "    </tr>\n",
       "  </thead>\n",
       "  <tbody>\n",
       "    <tr>\n",
       "      <td>0</td>\n",
       "      <td>Robert Glasper</td>\n",
       "      <td>Endangered Black Woman [Feat. Andra Day &amp; Stac...</td>\n",
       "      <td>44</td>\n",
       "      <td>2019-10-03T19:16:47Z</td>\n",
       "      <td>2019-10-03</td>\n",
       "      <td>5cM1PvItlR21WUyBnsdMcn</td>\n",
       "      <td>6HMZPGvQxzFFhyMJLjNQnt</td>\n",
       "      <td>0 days 19:16:47</td>\n",
       "      <td>0.0</td>\n",
       "    </tr>\n",
       "    <tr>\n",
       "      <td>1</td>\n",
       "      <td>Danny Brown</td>\n",
       "      <td>3 Tearz</td>\n",
       "      <td>57</td>\n",
       "      <td>2019-10-02T12:28:42Z</td>\n",
       "      <td>2019-10-01</td>\n",
       "      <td>7aA592KWirLsnfb5ulGWvU</td>\n",
       "      <td>1BMdBu6UsVCyYZ8BvTdBtw</td>\n",
       "      <td>1 days 12:28:42</td>\n",
       "      <td>1.0</td>\n",
       "    </tr>\n",
       "    <tr>\n",
       "      <td>2</td>\n",
       "      <td>Archy Marshall</td>\n",
       "      <td>Arise Dear Brother</td>\n",
       "      <td>42</td>\n",
       "      <td>2019-10-03T17:33:27Z</td>\n",
       "      <td>2015-12-10</td>\n",
       "      <td>2pLvihTVAElhBCw7HcrIUC</td>\n",
       "      <td>26d3GcODYXIwjxspmIWHW0</td>\n",
       "      <td>1393 days 17:33:27</td>\n",
       "      <td>1393.0</td>\n",
       "    </tr>\n",
       "    <tr>\n",
       "      <td>3</td>\n",
       "      <td>The Midnight Hour</td>\n",
       "      <td>Harmony</td>\n",
       "      <td>37</td>\n",
       "      <td>2019-10-18T04:56:37Z</td>\n",
       "      <td>2019-10-18</td>\n",
       "      <td>1S5jf5XWhQTMjGZQxCH0AJ</td>\n",
       "      <td>4muWswJjEaNdXZS6bnNucA</td>\n",
       "      <td>0 days 04:56:37</td>\n",
       "      <td>0.0</td>\n",
       "    </tr>\n",
       "    <tr>\n",
       "      <td>4</td>\n",
       "      <td>Lee \"Scratch\" Perry</td>\n",
       "      <td>Magik</td>\n",
       "      <td>25</td>\n",
       "      <td>2019-10-03T17:41:57Z</td>\n",
       "      <td>2019-10-02</td>\n",
       "      <td>1TsG4AumsMt1Tcq2nHpov9</td>\n",
       "      <td>6LVCbj6ha72ytZbhzaiWId</td>\n",
       "      <td>1 days 17:41:57</td>\n",
       "      <td>1.0</td>\n",
       "    </tr>\n",
       "    <tr>\n",
       "      <td>...</td>\n",
       "      <td>...</td>\n",
       "      <td>...</td>\n",
       "      <td>...</td>\n",
       "      <td>...</td>\n",
       "      <td>...</td>\n",
       "      <td>...</td>\n",
       "      <td>...</td>\n",
       "      <td>...</td>\n",
       "      <td>...</td>\n",
       "    </tr>\n",
       "    <tr>\n",
       "      <td>2518</td>\n",
       "      <td>Nada Surf</td>\n",
       "      <td>When I Was Young</td>\n",
       "      <td>0</td>\n",
       "      <td>2012-02-17T03:18:57Z</td>\n",
       "      <td>2012-01-01</td>\n",
       "      <td>11zHPjHnZN0ACA50rSnTcy</td>\n",
       "      <td>0gIyOQkwo05A2BDfJ5Qwau</td>\n",
       "      <td>47 days 03:18:57</td>\n",
       "      <td>47.0</td>\n",
       "    </tr>\n",
       "    <tr>\n",
       "      <td>2519</td>\n",
       "      <td>Alabama Shakes</td>\n",
       "      <td>Hold On</td>\n",
       "      <td>2</td>\n",
       "      <td>2012-02-17T08:14:09Z</td>\n",
       "      <td>2012-01-31</td>\n",
       "      <td>16GcWuvvybAoaHr0NqT8Eh</td>\n",
       "      <td>7c13Xlndg43PnSzpHRD11d</td>\n",
       "      <td>17 days 08:14:09</td>\n",
       "      <td>17.0</td>\n",
       "    </tr>\n",
       "    <tr>\n",
       "      <td>2520</td>\n",
       "      <td>Erich Wolfgang Korngold</td>\n",
       "      <td>Violin Concerto in D Major, Op. 35: III. Final...</td>\n",
       "      <td>0</td>\n",
       "      <td>2012-02-12T08:14:56Z</td>\n",
       "      <td>2012-02-07</td>\n",
       "      <td>3UaJz1tq0BBPzJBPgkBarb</td>\n",
       "      <td>3SICF3KhUZo1vDHjFauTSs</td>\n",
       "      <td>5 days 08:14:56</td>\n",
       "      <td>5.0</td>\n",
       "    </tr>\n",
       "    <tr>\n",
       "      <td>2521</td>\n",
       "      <td>Perfume Genius</td>\n",
       "      <td>All Waters</td>\n",
       "      <td>0</td>\n",
       "      <td>2012-01-26T06:53:06Z</td>\n",
       "      <td>2012-02-20</td>\n",
       "      <td>2ueoLVCXQ948OfhVvAy3Nn</td>\n",
       "      <td>4tapXj9TbKuFm0rkAl1Qjp</td>\n",
       "      <td>0 days 00:00:00</td>\n",
       "      <td>0.0</td>\n",
       "    </tr>\n",
       "    <tr>\n",
       "      <td>2522</td>\n",
       "      <td>Radiohead</td>\n",
       "      <td>The Daily Mail</td>\n",
       "      <td>0</td>\n",
       "      <td>2011-12-21T20:25:15Z</td>\n",
       "      <td>2011-12-19</td>\n",
       "      <td>4Z8W4fKeB5YxbusRsdQVPb</td>\n",
       "      <td>2eykDRFrn00PyWrqZqasEV</td>\n",
       "      <td>2 days 20:25:15</td>\n",
       "      <td>2.0</td>\n",
       "    </tr>\n",
       "  </tbody>\n",
       "</table>\n",
       "<p>2523 rows × 9 columns</p>\n",
       "</div>"
      ],
      "text/plain": [
       "               Primary Artist  \\\n",
       "0              Robert Glasper   \n",
       "1                 Danny Brown   \n",
       "2              Archy Marshall   \n",
       "3           The Midnight Hour   \n",
       "4         Lee \"Scratch\" Perry   \n",
       "...                       ...   \n",
       "2518                Nada Surf   \n",
       "2519           Alabama Shakes   \n",
       "2520  Erich Wolfgang Korngold   \n",
       "2521           Perfume Genius   \n",
       "2522                Radiohead   \n",
       "\n",
       "                                             Track Name  Popularity  \\\n",
       "0     Endangered Black Woman [Feat. Andra Day & Stac...          44   \n",
       "1                                               3 Tearz          57   \n",
       "2                                    Arise Dear Brother          42   \n",
       "3                                               Harmony          37   \n",
       "4                                                 Magik          25   \n",
       "...                                                 ...         ...   \n",
       "2518                                   When I Was Young           0   \n",
       "2519                                            Hold On           2   \n",
       "2520  Violin Concerto in D Major, Op. 35: III. Final...           0   \n",
       "2521                                         All Waters           0   \n",
       "2522                                     The Daily Mail           0   \n",
       "\n",
       "                  Added At Release Date               Artist ID  \\\n",
       "0     2019-10-03T19:16:47Z   2019-10-03  5cM1PvItlR21WUyBnsdMcn   \n",
       "1     2019-10-02T12:28:42Z   2019-10-01  7aA592KWirLsnfb5ulGWvU   \n",
       "2     2019-10-03T17:33:27Z   2015-12-10  2pLvihTVAElhBCw7HcrIUC   \n",
       "3     2019-10-18T04:56:37Z   2019-10-18  1S5jf5XWhQTMjGZQxCH0AJ   \n",
       "4     2019-10-03T17:41:57Z   2019-10-02  1TsG4AumsMt1Tcq2nHpov9   \n",
       "...                    ...          ...                     ...   \n",
       "2518  2012-02-17T03:18:57Z   2012-01-01  11zHPjHnZN0ACA50rSnTcy   \n",
       "2519  2012-02-17T08:14:09Z   2012-01-31  16GcWuvvybAoaHr0NqT8Eh   \n",
       "2520  2012-02-12T08:14:56Z   2012-02-07  3UaJz1tq0BBPzJBPgkBarb   \n",
       "2521  2012-01-26T06:53:06Z   2012-02-20  2ueoLVCXQ948OfhVvAy3Nn   \n",
       "2522  2011-12-21T20:25:15Z   2011-12-19  4Z8W4fKeB5YxbusRsdQVPb   \n",
       "\n",
       "                    Track ID Playlist Date - Release Date  \\\n",
       "0     6HMZPGvQxzFFhyMJLjNQnt              0 days 19:16:47   \n",
       "1     1BMdBu6UsVCyYZ8BvTdBtw              1 days 12:28:42   \n",
       "2     26d3GcODYXIwjxspmIWHW0           1393 days 17:33:27   \n",
       "3     4muWswJjEaNdXZS6bnNucA              0 days 04:56:37   \n",
       "4     6LVCbj6ha72ytZbhzaiWId              1 days 17:41:57   \n",
       "...                      ...                          ...   \n",
       "2518  0gIyOQkwo05A2BDfJ5Qwau             47 days 03:18:57   \n",
       "2519  7c13Xlndg43PnSzpHRD11d             17 days 08:14:09   \n",
       "2520  3SICF3KhUZo1vDHjFauTSs              5 days 08:14:56   \n",
       "2521  4tapXj9TbKuFm0rkAl1Qjp              0 days 00:00:00   \n",
       "2522  2eykDRFrn00PyWrqZqasEV              2 days 20:25:15   \n",
       "\n",
       "      Days Until Discovery  \n",
       "0                      0.0  \n",
       "1                      1.0  \n",
       "2                   1393.0  \n",
       "3                      0.0  \n",
       "4                      1.0  \n",
       "...                    ...  \n",
       "2518                  47.0  \n",
       "2519                  17.0  \n",
       "2520                   5.0  \n",
       "2521                   0.0  \n",
       "2522                   2.0  \n",
       "\n",
       "[2523 rows x 9 columns]"
      ]
     },
     "execution_count": 13,
     "metadata": {},
     "output_type": "execute_result"
    }
   ],
   "source": [
    "current_tracks_df.reset_index(drop=True)"
   ]
  },
  {
   "cell_type": "code",
   "execution_count": 14,
   "metadata": {
    "collapsed": true
   },
   "outputs": [
    {
     "data": {
      "text/plain": [
       "Timedelta('283 days 02:14:09.934998')"
      ]
     },
     "execution_count": 14,
     "metadata": {},
     "output_type": "execute_result"
    }
   ],
   "source": [
    "current_tracks_df['Playlist Date - Release Date'].mean()"
   ]
  },
  {
   "cell_type": "markdown",
   "metadata": {},
   "source": [
    "### Retrieving Additional Artist Data\n",
    "* As of 10/24/2019, There are at least **2304 unique artists*** represented in these **3817 tracks**.\n",
    "* The original Spotify API endpoint that I called did not include Artist Popularity, Artist Followers, or Genres, so I have to make a separate call for those.\n",
    "\n",
    "    \\* There are another 61 \"Primary Artist\" names that do not have Spotify Artist IDs (likely because they are from local files included in the playlists), though some of those artists may already be represented by other tracks."
   ]
  },
  {
   "cell_type": "code",
   "execution_count": 15,
   "metadata": {},
   "outputs": [],
   "source": [
    "unique_artist_ids = list(filter(None, (mps_df['Artist ID'].unique()))) "
   ]
  },
  {
   "cell_type": "code",
   "execution_count": 16,
   "metadata": {},
   "outputs": [
    {
     "data": {
      "text/plain": [
       "2304"
      ]
     },
     "execution_count": 16,
     "metadata": {},
     "output_type": "execute_result"
    }
   ],
   "source": [
    "len(unique_artist_ids)"
   ]
  },
  {
   "cell_type": "code",
   "execution_count": 17,
   "metadata": {},
   "outputs": [
    {
     "data": {
      "text/plain": [
       "2365"
      ]
     },
     "execution_count": 17,
     "metadata": {},
     "output_type": "execute_result"
    }
   ],
   "source": [
    "unique_artist_names = list(filter(None, (mps_df['Primary Artist'].unique()))) \n",
    "len(unique_artist_names)"
   ]
  },
  {
   "cell_type": "code",
   "execution_count": 18,
   "metadata": {},
   "outputs": [],
   "source": [
    "artist_endpoint_data = []\n",
    "artist_slice_start = 0\n",
    "artist_slice_end = 49\n",
    "\n",
    "while artist_slice_start < len(unique_artist_ids):\n",
    "    \n",
    "    #Call Spotify API With each of these sliced arrays\n",
    "    artist_results = spotify.artists(unique_artist_ids[artist_slice_start:artist_slice_end])\n",
    "    for i, item in enumerate(artist_results['artists']):        \n",
    "        artist_endpoint_data.append((item['id'], item['followers']['total'], item['genres'], item['popularity']))\n",
    "    \n",
    "    artist_slice_start += 50\n",
    "    artist_slice_end += 50"
   ]
  },
  {
   "cell_type": "code",
   "execution_count": 19,
   "metadata": {},
   "outputs": [
    {
     "data": {
      "text/html": [
       "<div>\n",
       "<style scoped>\n",
       "    .dataframe tbody tr th:only-of-type {\n",
       "        vertical-align: middle;\n",
       "    }\n",
       "\n",
       "    .dataframe tbody tr th {\n",
       "        vertical-align: top;\n",
       "    }\n",
       "\n",
       "    .dataframe thead th {\n",
       "        text-align: right;\n",
       "    }\n",
       "</style>\n",
       "<table border=\"1\" class=\"dataframe\">\n",
       "  <thead>\n",
       "    <tr style=\"text-align: right;\">\n",
       "      <th></th>\n",
       "      <th>Artist ID</th>\n",
       "      <th>Followers</th>\n",
       "      <th>Genres</th>\n",
       "      <th>Artist Popularity</th>\n",
       "    </tr>\n",
       "  </thead>\n",
       "  <tbody>\n",
       "    <tr>\n",
       "      <td>0</td>\n",
       "      <td>5cM1PvItlR21WUyBnsdMcn</td>\n",
       "      <td>162175</td>\n",
       "      <td>[contemporary jazz, contemporary post-bop, ind...</td>\n",
       "      <td>57</td>\n",
       "    </tr>\n",
       "    <tr>\n",
       "      <td>1</td>\n",
       "      <td>7aA592KWirLsnfb5ulGWvU</td>\n",
       "      <td>465230</td>\n",
       "      <td>[alternative hip hop, detroit hip hop, escape ...</td>\n",
       "      <td>69</td>\n",
       "    </tr>\n",
       "    <tr>\n",
       "      <td>2</td>\n",
       "      <td>2pLvihTVAElhBCw7HcrIUC</td>\n",
       "      <td>50190</td>\n",
       "      <td>[uk alternative hip hop]</td>\n",
       "      <td>44</td>\n",
       "    </tr>\n",
       "    <tr>\n",
       "      <td>3</td>\n",
       "      <td>1S5jf5XWhQTMjGZQxCH0AJ</td>\n",
       "      <td>7721</td>\n",
       "      <td>[indie jazz]</td>\n",
       "      <td>41</td>\n",
       "    </tr>\n",
       "    <tr>\n",
       "      <td>4</td>\n",
       "      <td>1TsG4AumsMt1Tcq2nHpov9</td>\n",
       "      <td>99450</td>\n",
       "      <td>[dub, reggae, rock steady, roots reggae, ska]</td>\n",
       "      <td>52</td>\n",
       "    </tr>\n",
       "    <tr>\n",
       "      <td>...</td>\n",
       "      <td>...</td>\n",
       "      <td>...</td>\n",
       "      <td>...</td>\n",
       "      <td>...</td>\n",
       "    </tr>\n",
       "    <tr>\n",
       "      <td>2253</td>\n",
       "      <td>3azoOASbeeRYOHv3ekSMRR</td>\n",
       "      <td>4892</td>\n",
       "      <td>[jazz electric bass]</td>\n",
       "      <td>38</td>\n",
       "    </tr>\n",
       "    <tr>\n",
       "      <td>2254</td>\n",
       "      <td>3U3C9o6UTYNdEsDckpRyvX</td>\n",
       "      <td>146813</td>\n",
       "      <td>[jazz, jazz electric bass, jazz funk, jazz fus...</td>\n",
       "      <td>45</td>\n",
       "    </tr>\n",
       "    <tr>\n",
       "      <td>2255</td>\n",
       "      <td>3Ker27Wbb9OcUHGs54JIAz</td>\n",
       "      <td>261114</td>\n",
       "      <td>[bolero, ranchera]</td>\n",
       "      <td>63</td>\n",
       "    </tr>\n",
       "    <tr>\n",
       "      <td>2256</td>\n",
       "      <td>3qwxSif06Qwzykdln8ZGfG</td>\n",
       "      <td>191054</td>\n",
       "      <td>[acid jazz, electro swing, electronica, ninja,...</td>\n",
       "      <td>55</td>\n",
       "    </tr>\n",
       "    <tr>\n",
       "      <td>2257</td>\n",
       "      <td>3JsMj0DEzyWc0VDlHuy9Bx</td>\n",
       "      <td>1415582</td>\n",
       "      <td>[album rock, art rock, classic rock, glam rock...</td>\n",
       "      <td>71</td>\n",
       "    </tr>\n",
       "  </tbody>\n",
       "</table>\n",
       "<p>2258 rows × 4 columns</p>\n",
       "</div>"
      ],
      "text/plain": [
       "                   Artist ID  Followers  \\\n",
       "0     5cM1PvItlR21WUyBnsdMcn     162175   \n",
       "1     7aA592KWirLsnfb5ulGWvU     465230   \n",
       "2     2pLvihTVAElhBCw7HcrIUC      50190   \n",
       "3     1S5jf5XWhQTMjGZQxCH0AJ       7721   \n",
       "4     1TsG4AumsMt1Tcq2nHpov9      99450   \n",
       "...                      ...        ...   \n",
       "2253  3azoOASbeeRYOHv3ekSMRR       4892   \n",
       "2254  3U3C9o6UTYNdEsDckpRyvX     146813   \n",
       "2255  3Ker27Wbb9OcUHGs54JIAz     261114   \n",
       "2256  3qwxSif06Qwzykdln8ZGfG     191054   \n",
       "2257  3JsMj0DEzyWc0VDlHuy9Bx    1415582   \n",
       "\n",
       "                                                 Genres  Artist Popularity  \n",
       "0     [contemporary jazz, contemporary post-bop, ind...                 57  \n",
       "1     [alternative hip hop, detroit hip hop, escape ...                 69  \n",
       "2                              [uk alternative hip hop]                 44  \n",
       "3                                          [indie jazz]                 41  \n",
       "4         [dub, reggae, rock steady, roots reggae, ska]                 52  \n",
       "...                                                 ...                ...  \n",
       "2253                               [jazz electric bass]                 38  \n",
       "2254  [jazz, jazz electric bass, jazz funk, jazz fus...                 45  \n",
       "2255                                 [bolero, ranchera]                 63  \n",
       "2256  [acid jazz, electro swing, electronica, ninja,...                 55  \n",
       "2257  [album rock, art rock, classic rock, glam rock...                 71  \n",
       "\n",
       "[2258 rows x 4 columns]"
      ]
     },
     "execution_count": 19,
     "metadata": {},
     "output_type": "execute_result"
    }
   ],
   "source": [
    "artists_df = pd.DataFrame(artist_endpoint_data, columns=('Artist ID', 'Followers', 'Genres','Artist Popularity'))\n",
    "artists_df"
   ]
  },
  {
   "cell_type": "code",
   "execution_count": 20,
   "metadata": {},
   "outputs": [
    {
     "data": {
      "text/plain": [
       "Text(0, 0.5, 'Playlisted Tracks')"
      ]
     },
     "execution_count": 20,
     "metadata": {},
     "output_type": "execute_result"
    },
    {
     "data": {
      "image/png": "[encoded data removed]",
      "text/plain": [
       "<Figure size 864x576 with 1 Axes>"
      ]
     },
     "metadata": {
      "needs_background": "light"
     },
     "output_type": "display_data"
    }
   ],
   "source": [
    "artists_df['Artist Popularity'].hist(bins=30,figsize=(12,8))\n",
    "plt.title(\"Distribution of Artist Popularity\")\n",
    "plt.xlabel(\"Artist Popularity On Spotify\")\n",
    "plt.ylabel(\"Playlisted Tracks\")"
   ]
  },
  {
   "cell_type": "code",
   "execution_count": 21,
   "metadata": {},
   "outputs": [
    {
     "data": {
      "text/html": [
       "<div>\n",
       "<style scoped>\n",
       "    .dataframe tbody tr th:only-of-type {\n",
       "        vertical-align: middle;\n",
       "    }\n",
       "\n",
       "    .dataframe tbody tr th {\n",
       "        vertical-align: top;\n",
       "    }\n",
       "\n",
       "    .dataframe thead th {\n",
       "        text-align: right;\n",
       "    }\n",
       "</style>\n",
       "<table border=\"1\" class=\"dataframe\">\n",
       "  <thead>\n",
       "    <tr style=\"text-align: right;\">\n",
       "      <th></th>\n",
       "      <th>Primary Artist</th>\n",
       "      <th>Track Name</th>\n",
       "      <th>Popularity</th>\n",
       "      <th>Added At</th>\n",
       "      <th>Release Date</th>\n",
       "      <th>Artist ID</th>\n",
       "      <th>Track ID</th>\n",
       "      <th>Playlist Date - Release Date</th>\n",
       "      <th>Days Until Discovery</th>\n",
       "      <th>Followers</th>\n",
       "      <th>Genres</th>\n",
       "      <th>Artist Popularity</th>\n",
       "    </tr>\n",
       "  </thead>\n",
       "  <tbody>\n",
       "    <tr>\n",
       "      <td>0</td>\n",
       "      <td>Robert Glasper</td>\n",
       "      <td>Endangered Black Woman [Feat. Andra Day &amp; Stac...</td>\n",
       "      <td>44</td>\n",
       "      <td>2019-10-03T19:16:47Z</td>\n",
       "      <td>2019-10-03</td>\n",
       "      <td>5cM1PvItlR21WUyBnsdMcn</td>\n",
       "      <td>6HMZPGvQxzFFhyMJLjNQnt</td>\n",
       "      <td>0 days 19:16:47</td>\n",
       "      <td>0.0</td>\n",
       "      <td>162175</td>\n",
       "      <td>[contemporary jazz, contemporary post-bop, ind...</td>\n",
       "      <td>57</td>\n",
       "    </tr>\n",
       "    <tr>\n",
       "      <td>1</td>\n",
       "      <td>Robert Glasper</td>\n",
       "      <td>Let Me In [Feat. Mick Jenkins]</td>\n",
       "      <td>46</td>\n",
       "      <td>2019-10-03T18:55:23Z</td>\n",
       "      <td>2019-10-03</td>\n",
       "      <td>5cM1PvItlR21WUyBnsdMcn</td>\n",
       "      <td>2y91djz91Yeh9rnTRRSuL1</td>\n",
       "      <td>0 days 18:55:23</td>\n",
       "      <td>0.0</td>\n",
       "      <td>162175</td>\n",
       "      <td>[contemporary jazz, contemporary post-bop, ind...</td>\n",
       "      <td>57</td>\n",
       "    </tr>\n",
       "    <tr>\n",
       "      <td>2</td>\n",
       "      <td>Robert Glasper</td>\n",
       "      <td>All I Do [Feat. SiR, Bridget Kelly, Song Bird]</td>\n",
       "      <td>46</td>\n",
       "      <td>2019-10-03T19:32:28Z</td>\n",
       "      <td>2019-10-03</td>\n",
       "      <td>5cM1PvItlR21WUyBnsdMcn</td>\n",
       "      <td>3UBsobFiVXbqZ1hFU16gBI</td>\n",
       "      <td>0 days 19:32:28</td>\n",
       "      <td>0.0</td>\n",
       "      <td>162175</td>\n",
       "      <td>[contemporary jazz, contemporary post-bop, ind...</td>\n",
       "      <td>57</td>\n",
       "    </tr>\n",
       "    <tr>\n",
       "      <td>3</td>\n",
       "      <td>Robert Glasper</td>\n",
       "      <td>Y'Outta Praise Him</td>\n",
       "      <td>28</td>\n",
       "      <td>2017-09-06T00:16:17Z</td>\n",
       "      <td>2007-01-01</td>\n",
       "      <td>5cM1PvItlR21WUyBnsdMcn</td>\n",
       "      <td>3ktd4dZe875cnP0pzK7AWr</td>\n",
       "      <td>3901 days 00:16:17</td>\n",
       "      <td>3901.0</td>\n",
       "      <td>162175</td>\n",
       "      <td>[contemporary jazz, contemporary post-bop, ind...</td>\n",
       "      <td>57</td>\n",
       "    </tr>\n",
       "    <tr>\n",
       "      <td>4</td>\n",
       "      <td>Robert Glasper</td>\n",
       "      <td>G&amp;B</td>\n",
       "      <td>29</td>\n",
       "      <td>2013-08-03T21:52:26Z</td>\n",
       "      <td>2007-01-01</td>\n",
       "      <td>5cM1PvItlR21WUyBnsdMcn</td>\n",
       "      <td>5P22GrIprYmnFZoR3P6142</td>\n",
       "      <td>2406 days 21:52:26</td>\n",
       "      <td>2406.0</td>\n",
       "      <td>162175</td>\n",
       "      <td>[contemporary jazz, contemporary post-bop, ind...</td>\n",
       "      <td>57</td>\n",
       "    </tr>\n",
       "  </tbody>\n",
       "</table>\n",
       "</div>"
      ],
      "text/plain": [
       "   Primary Artist                                         Track Name  \\\n",
       "0  Robert Glasper  Endangered Black Woman [Feat. Andra Day & Stac...   \n",
       "1  Robert Glasper                     Let Me In [Feat. Mick Jenkins]   \n",
       "2  Robert Glasper     All I Do [Feat. SiR, Bridget Kelly, Song Bird]   \n",
       "3  Robert Glasper                                 Y'Outta Praise Him   \n",
       "4  Robert Glasper                                                G&B   \n",
       "\n",
       "   Popularity              Added At Release Date               Artist ID  \\\n",
       "0          44  2019-10-03T19:16:47Z   2019-10-03  5cM1PvItlR21WUyBnsdMcn   \n",
       "1          46  2019-10-03T18:55:23Z   2019-10-03  5cM1PvItlR21WUyBnsdMcn   \n",
       "2          46  2019-10-03T19:32:28Z   2019-10-03  5cM1PvItlR21WUyBnsdMcn   \n",
       "3          28  2017-09-06T00:16:17Z   2007-01-01  5cM1PvItlR21WUyBnsdMcn   \n",
       "4          29  2013-08-03T21:52:26Z   2007-01-01  5cM1PvItlR21WUyBnsdMcn   \n",
       "\n",
       "                 Track ID Playlist Date - Release Date  Days Until Discovery  \\\n",
       "0  6HMZPGvQxzFFhyMJLjNQnt              0 days 19:16:47                   0.0   \n",
       "1  2y91djz91Yeh9rnTRRSuL1              0 days 18:55:23                   0.0   \n",
       "2  3UBsobFiVXbqZ1hFU16gBI              0 days 19:32:28                   0.0   \n",
       "3  3ktd4dZe875cnP0pzK7AWr           3901 days 00:16:17                3901.0   \n",
       "4  5P22GrIprYmnFZoR3P6142           2406 days 21:52:26                2406.0   \n",
       "\n",
       "   Followers                                             Genres  \\\n",
       "0     162175  [contemporary jazz, contemporary post-bop, ind...   \n",
       "1     162175  [contemporary jazz, contemporary post-bop, ind...   \n",
       "2     162175  [contemporary jazz, contemporary post-bop, ind...   \n",
       "3     162175  [contemporary jazz, contemporary post-bop, ind...   \n",
       "4     162175  [contemporary jazz, contemporary post-bop, ind...   \n",
       "\n",
       "   Artist Popularity  \n",
       "0                 57  \n",
       "1                 57  \n",
       "2                 57  \n",
       "3                 57  \n",
       "4                 57  "
      ]
     },
     "execution_count": 21,
     "metadata": {},
     "output_type": "execute_result"
    }
   ],
   "source": [
    "mps_artists_inner_df = pd.merge(mps_df, artists_df, on='Artist ID', how='inner')\n",
    "mps_artists_inner_df.head()"
   ]
  },
  {
   "cell_type": "code",
   "execution_count": 22,
   "metadata": {},
   "outputs": [],
   "source": [
    "current_artists_df = mps_artists_inner_df[mps_artists_inner_df['Release Date'] > '2011-12-13']"
   ]
  },
  {
   "cell_type": "code",
   "execution_count": 23,
   "metadata": {},
   "outputs": [
    {
     "data": {
      "text/plain": [
       "Text(0.5, 1.0, 'Distribution of Artist Popularity Over Discovery Time')"
      ]
     },
     "execution_count": 23,
     "metadata": {},
     "output_type": "execute_result"
    },
    {
     "data": {
      "image/png": "[encoded data removed]",
      "text/plain": [
       "<Figure size 864x576 with 1 Axes>"
      ]
     },
     "metadata": {
      "needs_background": "light"
     },
     "output_type": "display_data"
    }
   ],
   "source": [
    "current_artists_df.plot.scatter(x='Days Until Discovery',y='Artist Popularity',figsize=(12,8))\n",
    "plt.title(\"Distribution of Artist Popularity Over Discovery Time\")"
   ]
  },
  {
   "cell_type": "code",
   "execution_count": 24,
   "metadata": {},
   "outputs": [
    {
     "data": {
      "text/plain": [
       "Text(0.5, 1.0, 'Artist Popularity vs Followers on Spotify')"
      ]
     },
     "execution_count": 24,
     "metadata": {},
     "output_type": "execute_result"
    },
    {
     "data": {
      "image/png": "[encoded data removed]",
      "text/plain": [
       "<Figure size 864x576 with 1 Axes>"
      ]
     },
     "metadata": {
      "needs_background": "light"
     },
     "output_type": "display_data"
    }
   ],
   "source": [
    "(mps_artists_inner_df[mps_artists_inner_df['Artist Popularity'] < 80]).plot.scatter(x='Artist Popularity',y='Followers',figsize=(12,8))\n",
    "plt.title(\"Artist Popularity vs Followers on Spotify\")"
   ]
  },
  {
   "cell_type": "markdown",
   "metadata": {},
   "source": [
    "* The number of artist followers remains relatively low and static for artists with less than a popularity of 50, so this metric will not be very helpful for analysis"
   ]
  },
  {
   "cell_type": "markdown",
   "metadata": {},
   "source": [
    "# To Do\n",
    "    \n",
    "* Merge earliest programming date, (**+ other applicable information... one of the release dates? Probably Artist Name for easy Pytrends setup**) into unique artist DataFrame\n",
    "\n",
    "* Lookup artists in some dictionary to filter names that could return false positives in Google search\n",
    "    * https://pypi.org/project/PyDictionary/ ?\n",
    "    \n",
    "* Determine threshold for filter / popularity and loop through any approved Artist names with Pytrends\n",
    "    * Save as many as possible?\n",
    "        * DataFrames?\n",
    "        * Series?\n",
    "        * DataFrames or Series **within** the main DataFrame?"
   ]
  },
  {
   "cell_type": "code",
   "execution_count": 41,
   "metadata": {},
   "outputs": [],
   "source": [
    "#[element for list_ in s for element in list_]\n",
    "\n",
    "all_genres = pd.DataFrame(artists_df['Genres'].sum())"
   ]
  },
  {
   "cell_type": "code",
   "execution_count": 49,
   "metadata": {},
   "outputs": [],
   "source": [
    "grouped_genres = all_genres[0].value_counts()"
   ]
  },
  {
   "cell_type": "code",
   "execution_count": 96,
   "metadata": {},
   "outputs": [
    {
     "data": {
      "text/plain": [
       "(array([ 0,  1,  2,  3,  4,  5,  6,  7,  8,  9, 10, 11, 12, 13, 14, 15, 16,\n",
       "        17, 18, 19, 20, 21, 22, 23, 24, 25, 26, 27, 28, 29, 30, 31, 32, 33,\n",
       "        34, 35, 36, 37, 38, 39, 40, 41, 42, 43, 44, 45, 46, 47, 48, 49]),\n",
       " <a list of 50 Text xticklabel objects>)"
      ]
     },
     "execution_count": 96,
     "metadata": {},
     "output_type": "execute_result"
    },
    {
     "data": {
      "image/png": "[encoded data removed]",
      "text/plain": [
       "<Figure size 1080x576 with 1 Axes>"
      ]
     },
     "metadata": {
      "needs_background": "light"
     },
     "output_type": "display_data"
    }
   ],
   "source": [
    "grouped_genres.head(50).plot.bar(figsize=(15,8))\n",
    "plt.xticks(rotation=45,ha=\"right\")"
   ]
  },
  {
   "cell_type": "code",
   "execution_count": 80,
   "metadata": {},
   "outputs": [
    {
     "data": {
      "text/plain": [
       "indie soul            118\n",
       "art pop               112\n",
       "folk-pop              107\n",
       "indie rock            105\n",
       "hip hop               104\n",
       "                     ... \n",
       "indie fuzzpop           1\n",
       "arkansas country        1\n",
       "charlotte nc indie      1\n",
       "strut                   1\n",
       "peruvian rock           1\n",
       "Name: 0, Length: 1067, dtype: int64"
      ]
     },
     "execution_count": 80,
     "metadata": {},
     "output_type": "execute_result"
    }
   ],
   "source": [
    "grouped_genres"
   ]
  },
  {
   "cell_type": "code",
   "execution_count": 97,
   "metadata": {},
   "outputs": [
    {
     "data": {
      "text/html": [
       "<div>\n",
       "<style scoped>\n",
       "    .dataframe tbody tr th:only-of-type {\n",
       "        vertical-align: middle;\n",
       "    }\n",
       "\n",
       "    .dataframe tbody tr th {\n",
       "        vertical-align: top;\n",
       "    }\n",
       "\n",
       "    .dataframe thead th {\n",
       "        text-align: right;\n",
       "    }\n",
       "</style>\n",
       "<table border=\"1\" class=\"dataframe\">\n",
       "  <thead>\n",
       "    <tr style=\"text-align: right;\">\n",
       "      <th></th>\n",
       "      <th>Primary Artist</th>\n",
       "      <th>Track Name</th>\n",
       "      <th>Popularity</th>\n",
       "      <th>Added At</th>\n",
       "      <th>Release Date</th>\n",
       "      <th>Artist ID</th>\n",
       "      <th>Track ID</th>\n",
       "      <th>Playlist Date - Release Date</th>\n",
       "      <th>Days Until Discovery</th>\n",
       "      <th>Followers</th>\n",
       "      <th>Genres</th>\n",
       "      <th>Artist Popularity</th>\n",
       "    </tr>\n",
       "  </thead>\n",
       "  <tbody>\n",
       "    <tr>\n",
       "      <td>287</td>\n",
       "      <td>Taylor McFerrin</td>\n",
       "      <td>As You Are</td>\n",
       "      <td>30</td>\n",
       "      <td>2019-08-19T16:43:05Z</td>\n",
       "      <td>2019-08-16</td>\n",
       "      <td>0yLmsf6RBPYqm6hvFJCPg6</td>\n",
       "      <td>38e8YtZvfUjWoC4xA76qiQ</td>\n",
       "      <td>3 days 16:43:05</td>\n",
       "      <td>3.0</td>\n",
       "      <td>42238</td>\n",
       "      <td>[alternative r&amp;b, indie jazz, indie soul, neo ...</td>\n",
       "      <td>48</td>\n",
       "    </tr>\n",
       "    <tr>\n",
       "      <td>288</td>\n",
       "      <td>Taylor McFerrin</td>\n",
       "      <td>Love and Distance</td>\n",
       "      <td>44</td>\n",
       "      <td>2019-08-09T05:25:02Z</td>\n",
       "      <td>2019-08-09</td>\n",
       "      <td>0yLmsf6RBPYqm6hvFJCPg6</td>\n",
       "      <td>1QfjnqVZCaeXkEMdyTbG0T</td>\n",
       "      <td>0 days 05:25:02</td>\n",
       "      <td>0.0</td>\n",
       "      <td>42238</td>\n",
       "      <td>[alternative r&amp;b, indie jazz, indie soul, neo ...</td>\n",
       "      <td>48</td>\n",
       "    </tr>\n",
       "    <tr>\n",
       "      <td>289</td>\n",
       "      <td>Taylor McFerrin</td>\n",
       "      <td>Memory Digital (feat. Anna Wise)</td>\n",
       "      <td>31</td>\n",
       "      <td>2019-08-02T04:22:42Z</td>\n",
       "      <td>2019-07-26</td>\n",
       "      <td>0yLmsf6RBPYqm6hvFJCPg6</td>\n",
       "      <td>0oDKVL14sI8k7yYt2qOBFU</td>\n",
       "      <td>7 days 04:22:42</td>\n",
       "      <td>7.0</td>\n",
       "      <td>42238</td>\n",
       "      <td>[alternative r&amp;b, indie jazz, indie soul, neo ...</td>\n",
       "      <td>48</td>\n",
       "    </tr>\n",
       "    <tr>\n",
       "      <td>290</td>\n",
       "      <td>Taylor McFerrin</td>\n",
       "      <td>Now That You Need Me</td>\n",
       "      <td>29</td>\n",
       "      <td>2019-07-12T16:34:06Z</td>\n",
       "      <td>2019-07-12</td>\n",
       "      <td>0yLmsf6RBPYqm6hvFJCPg6</td>\n",
       "      <td>7hlQLoAukbrAB8GyrQaPf7</td>\n",
       "      <td>0 days 16:34:06</td>\n",
       "      <td>0.0</td>\n",
       "      <td>42238</td>\n",
       "      <td>[alternative r&amp;b, indie jazz, indie soul, neo ...</td>\n",
       "      <td>48</td>\n",
       "    </tr>\n",
       "    <tr>\n",
       "      <td>291</td>\n",
       "      <td>Taylor McFerrin</td>\n",
       "      <td>Stepps</td>\n",
       "      <td>0</td>\n",
       "      <td>2014-07-16T14:00:42Z</td>\n",
       "      <td>2014-06-10</td>\n",
       "      <td>0yLmsf6RBPYqm6hvFJCPg6</td>\n",
       "      <td>4g5APMTAIIs2UiAXzma6cp</td>\n",
       "      <td>36 days 14:00:42</td>\n",
       "      <td>36.0</td>\n",
       "      <td>42238</td>\n",
       "      <td>[alternative r&amp;b, indie jazz, indie soul, neo ...</td>\n",
       "      <td>48</td>\n",
       "    </tr>\n",
       "    <tr>\n",
       "      <td>...</td>\n",
       "      <td>...</td>\n",
       "      <td>...</td>\n",
       "      <td>...</td>\n",
       "      <td>...</td>\n",
       "      <td>...</td>\n",
       "      <td>...</td>\n",
       "      <td>...</td>\n",
       "      <td>...</td>\n",
       "      <td>...</td>\n",
       "      <td>...</td>\n",
       "      <td>...</td>\n",
       "      <td>...</td>\n",
       "    </tr>\n",
       "    <tr>\n",
       "      <td>3335</td>\n",
       "      <td>Lone</td>\n",
       "      <td>New Colour</td>\n",
       "      <td>0</td>\n",
       "      <td>2013-07-24T20:44:48Z</td>\n",
       "      <td>2012-05-06</td>\n",
       "      <td>5wZOrGWdg4hq7KIRMupJdI</td>\n",
       "      <td>2uBAU6W0JrENlJUemQksDv</td>\n",
       "      <td>444 days 20:44:48</td>\n",
       "      <td>444.0</td>\n",
       "      <td>55826</td>\n",
       "      <td>[bass music, deep house, downtempo, electronic...</td>\n",
       "      <td>46</td>\n",
       "    </tr>\n",
       "    <tr>\n",
       "      <td>3410</td>\n",
       "      <td>Gold Panda</td>\n",
       "      <td>Marriage</td>\n",
       "      <td>0</td>\n",
       "      <td>2013-08-13T04:14:58Z</td>\n",
       "      <td>2011-04-16</td>\n",
       "      <td>6xS3zemJD9h94iueQvGqVk</td>\n",
       "      <td>4uXDg0hAajiJkaFhorPQfJ</td>\n",
       "      <td>850 days 04:14:58</td>\n",
       "      <td>850.0</td>\n",
       "      <td>161515</td>\n",
       "      <td>[bass music, chillwave, electronica, future ga...</td>\n",
       "      <td>47</td>\n",
       "    </tr>\n",
       "    <tr>\n",
       "      <td>3411</td>\n",
       "      <td>Onra</td>\n",
       "      <td>L.O.V.E.</td>\n",
       "      <td>0</td>\n",
       "      <td>2013-08-13T04:15:33Z</td>\n",
       "      <td>2012-06-12</td>\n",
       "      <td>2sAlo7Fey5cqBk5WJILSd8</td>\n",
       "      <td>6LMceDtrIjQUdxM1MW3d9x</td>\n",
       "      <td>427 days 04:15:33</td>\n",
       "      <td>427.0</td>\n",
       "      <td>95473</td>\n",
       "      <td>[alternative hip hop, chillhop, electronica, j...</td>\n",
       "      <td>52</td>\n",
       "    </tr>\n",
       "    <tr>\n",
       "      <td>3468</td>\n",
       "      <td>Sweet Valley</td>\n",
       "      <td>Where Will I Go</td>\n",
       "      <td>0</td>\n",
       "      <td>2013-01-16T22:23:19Z</td>\n",
       "      <td>2012-09-25</td>\n",
       "      <td>0Rh2F37PiLjhYaERywNulu</td>\n",
       "      <td>0WB1U2gQPrkCEHy2skpgep</td>\n",
       "      <td>113 days 22:23:19</td>\n",
       "      <td>113.0</td>\n",
       "      <td>17941</td>\n",
       "      <td>[wonky]</td>\n",
       "      <td>37</td>\n",
       "    </tr>\n",
       "    <tr>\n",
       "      <td>3470</td>\n",
       "      <td>Dorian Concept</td>\n",
       "      <td>Toe Games Made Her Giggle</td>\n",
       "      <td>14</td>\n",
       "      <td>2013-01-23T20:52:09Z</td>\n",
       "      <td>2011-03-28</td>\n",
       "      <td>2sriRQRt36DnfHtD68zZlj</td>\n",
       "      <td>3beZwkE3wevXllh4jLilpu</td>\n",
       "      <td>667 days 20:52:09</td>\n",
       "      <td>667.0</td>\n",
       "      <td>22892</td>\n",
       "      <td>[bass music, ninja, progressive jazz fusion, w...</td>\n",
       "      <td>34</td>\n",
       "    </tr>\n",
       "  </tbody>\n",
       "</table>\n",
       "<p>102 rows × 12 columns</p>\n",
       "</div>"
      ],
      "text/plain": [
       "       Primary Artist                        Track Name  Popularity  \\\n",
       "287   Taylor McFerrin                        As You Are          30   \n",
       "288   Taylor McFerrin                 Love and Distance          44   \n",
       "289   Taylor McFerrin  Memory Digital (feat. Anna Wise)          31   \n",
       "290   Taylor McFerrin              Now That You Need Me          29   \n",
       "291   Taylor McFerrin                            Stepps           0   \n",
       "...               ...                               ...         ...   \n",
       "3335             Lone                        New Colour           0   \n",
       "3410       Gold Panda                          Marriage           0   \n",
       "3411             Onra                          L.O.V.E.           0   \n",
       "3468     Sweet Valley                   Where Will I Go           0   \n",
       "3470   Dorian Concept         Toe Games Made Her Giggle          14   \n",
       "\n",
       "                  Added At Release Date               Artist ID  \\\n",
       "287   2019-08-19T16:43:05Z   2019-08-16  0yLmsf6RBPYqm6hvFJCPg6   \n",
       "288   2019-08-09T05:25:02Z   2019-08-09  0yLmsf6RBPYqm6hvFJCPg6   \n",
       "289   2019-08-02T04:22:42Z   2019-07-26  0yLmsf6RBPYqm6hvFJCPg6   \n",
       "290   2019-07-12T16:34:06Z   2019-07-12  0yLmsf6RBPYqm6hvFJCPg6   \n",
       "291   2014-07-16T14:00:42Z   2014-06-10  0yLmsf6RBPYqm6hvFJCPg6   \n",
       "...                    ...          ...                     ...   \n",
       "3335  2013-07-24T20:44:48Z   2012-05-06  5wZOrGWdg4hq7KIRMupJdI   \n",
       "3410  2013-08-13T04:14:58Z   2011-04-16  6xS3zemJD9h94iueQvGqVk   \n",
       "3411  2013-08-13T04:15:33Z   2012-06-12  2sAlo7Fey5cqBk5WJILSd8   \n",
       "3468  2013-01-16T22:23:19Z   2012-09-25  0Rh2F37PiLjhYaERywNulu   \n",
       "3470  2013-01-23T20:52:09Z   2011-03-28  2sriRQRt36DnfHtD68zZlj   \n",
       "\n",
       "                    Track ID Playlist Date - Release Date  \\\n",
       "287   38e8YtZvfUjWoC4xA76qiQ              3 days 16:43:05   \n",
       "288   1QfjnqVZCaeXkEMdyTbG0T              0 days 05:25:02   \n",
       "289   0oDKVL14sI8k7yYt2qOBFU              7 days 04:22:42   \n",
       "290   7hlQLoAukbrAB8GyrQaPf7              0 days 16:34:06   \n",
       "291   4g5APMTAIIs2UiAXzma6cp             36 days 14:00:42   \n",
       "...                      ...                          ...   \n",
       "3335  2uBAU6W0JrENlJUemQksDv            444 days 20:44:48   \n",
       "3410  4uXDg0hAajiJkaFhorPQfJ            850 days 04:14:58   \n",
       "3411  6LMceDtrIjQUdxM1MW3d9x            427 days 04:15:33   \n",
       "3468  0WB1U2gQPrkCEHy2skpgep            113 days 22:23:19   \n",
       "3470  3beZwkE3wevXllh4jLilpu            667 days 20:52:09   \n",
       "\n",
       "      Days Until Discovery  Followers  \\\n",
       "287                    3.0      42238   \n",
       "288                    0.0      42238   \n",
       "289                    7.0      42238   \n",
       "290                    0.0      42238   \n",
       "291                   36.0      42238   \n",
       "...                    ...        ...   \n",
       "3335                 444.0      55826   \n",
       "3410                 850.0     161515   \n",
       "3411                 427.0      95473   \n",
       "3468                 113.0      17941   \n",
       "3470                 667.0      22892   \n",
       "\n",
       "                                                 Genres  Artist Popularity  \n",
       "287   [alternative r&b, indie jazz, indie soul, neo ...                 48  \n",
       "288   [alternative r&b, indie jazz, indie soul, neo ...                 48  \n",
       "289   [alternative r&b, indie jazz, indie soul, neo ...                 48  \n",
       "290   [alternative r&b, indie jazz, indie soul, neo ...                 48  \n",
       "291   [alternative r&b, indie jazz, indie soul, neo ...                 48  \n",
       "...                                                 ...                ...  \n",
       "3335  [bass music, deep house, downtempo, electronic...                 46  \n",
       "3410  [bass music, chillwave, electronica, future ga...                 47  \n",
       "3411  [alternative hip hop, chillhop, electronica, j...                 52  \n",
       "3468                                            [wonky]                 37  \n",
       "3470  [bass music, ninja, progressive jazz fusion, w...                 34  \n",
       "\n",
       "[102 rows x 12 columns]"
      ]
     },
     "execution_count": 97,
     "metadata": {},
     "output_type": "execute_result"
    }
   ],
   "source": [
    "selection = ['wonky']\n",
    "genre_mask = mps_artists_inner_df['Genres'].apply(lambda x: any(item for item in selection if item in x))\n",
    "mps_artists_inner_df[genre_mask]"
   ]
  },
  {
   "cell_type": "code",
   "execution_count": null,
   "metadata": {},
   "outputs": [],
   "source": []
  }
 ],
 "metadata": {
  "kernelspec": {
   "display_name": "Python 3",
   "language": "python",
   "name": "python3"
  },
  "language_info": {
   "codemirror_mode": {
    "name": "ipython",
    "version": 3
   },
   "file_extension": ".py",
   "mimetype": "text/x-python",
   "name": "python",
   "nbconvert_exporter": "python",
   "pygments_lexer": "ipython3",
   "version": "3.7.3"
  }
 },
 "nbformat": 4,
 "nbformat_minor": 1
}
